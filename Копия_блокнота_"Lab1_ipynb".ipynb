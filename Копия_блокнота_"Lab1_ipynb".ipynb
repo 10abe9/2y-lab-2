{
  "cells": [
    {
      "cell_type": "markdown",
      "metadata": {
        "id": "view-in-github",
        "colab_type": "text"
      },
      "source": [
        "<a href=\"https://colab.research.google.com/github/10abe9/2y-lab-2/blob/master/%D0%9A%D0%BE%D0%BF%D0%B8%D1%8F_%D0%B1%D0%BB%D0%BE%D0%BA%D0%BD%D0%BE%D1%82%D0%B0_%22Lab1_ipynb%22.ipynb\" target=\"_parent\"><img src=\"https://colab.research.google.com/assets/colab-badge.svg\" alt=\"Open In Colab\"/></a>"
      ]
    },
    {
      "cell_type": "markdown",
      "id": "fifteen-sailing",
      "metadata": {
        "id": "fifteen-sailing"
      },
      "source": [
        "# Лабораторная работа №1\n",
        "## Выполнил студент группы ГРУППА ФИО"
      ]
    },
    {
      "cell_type": "markdown",
      "id": "particular-syndicate",
      "metadata": {
        "id": "particular-syndicate"
      },
      "source": [
        "### Оглавление\n",
        "1. [Задание 1](#Задание-№1)\n",
        "2. [Задание 2](#Задание-№2)\n",
        "3. [Задание 3](#Задание-№3)\n",
        "4. [Вывод](#Вывод)"
      ]
    },
    {
      "cell_type": "markdown",
      "id": "arctic-stocks",
      "metadata": {
        "id": "arctic-stocks"
      },
      "source": [
        "### Задание №1\n",
        "<i> Вызвать функцию print() и передать туда строку Hello, World! </i>"
      ]
    },
    {
      "cell_type": "code",
      "execution_count": null,
      "id": "caring-truck",
      "metadata": {
        "scrolled": true,
        "id": "caring-truck",
        "outputId": "1008179f-dff8-485e-d01e-43a02a078667",
        "colab": {
          "base_uri": "https://localhost:8080/"
        }
      },
      "outputs": [
        {
          "output_type": "stream",
          "name": "stdout",
          "text": [
            "Hello, World!\n"
          ]
        }
      ],
      "source": [
        "print (\"Hello, World!\")"
      ]
    },
    {
      "cell_type": "markdown",
      "id": "maritime-conversation",
      "metadata": {
        "id": "maritime-conversation"
      },
      "source": [
        "### Задание №2\n",
        "Написать генератор случайных матриц(многомерных), который принимает\n",
        "опциональные параметры <b>m</b>, <b>n</b>, <b>min_limit</b>, <b>max_limit</b>, где <b>m</b> и <b>n</b> указывают размер\n",
        "матрицы, а <b>min_lim</b> и <b>max_lim</b> - минимальное и максимальное значение для\n",
        "генерируемого числа."
      ]
    },
    {
      "cell_type": "code",
      "execution_count": null,
      "id": "built-contact",
      "metadata": {
        "id": "built-contact"
      },
      "outputs": [],
      "source": [
        "import random\n",
        "import time"
      ]
    },
    {
      "cell_type": "code",
      "execution_count": null,
      "id": "alert-charm",
      "metadata": {
        "id": "alert-charm",
        "outputId": "5d9e81a0-30d7-4263-fc9c-2b7cbe8edf81",
        "colab": {
          "base_uri": "https://localhost:8080/"
        }
      },
      "outputs": [
        {
          "output_type": "stream",
          "name": "stdout",
          "text": [
            "5\n",
            "5\n",
            "2\n",
            "5\n",
            "[[2, 3, 3, 2, 0], [2, 3, 3, 2, 0], [2, 3, 3, 2, 0], [2, 3, 3, 2, 0], [2, 3, 3, 2, 0]]\n"
          ]
        }
      ],
      "source": [
        "\n",
        "user_m = int(input())\n",
        "user_n = int(input())\n",
        "user_min_limit = int(input())\n",
        "user_max_limit = int(input())\n",
        "row = [0]*user_n\n",
        "A = [row]*user_m\n",
        "user_m, user_n, user_min_limit, user_max_limit\n",
        "for i in range(int(user_n)-1):\n",
        "    for j in range(int(user_m)-1):\n",
        "        A[i][j]=(random.randrange(int(user_min_limit),int(user_max_limit)))\n",
        "for i in A:\n",
        "  print (i)"
      ]
    },
    {
      "cell_type": "markdown",
      "id": "catholic-roots",
      "metadata": {
        "id": "catholic-roots"
      },
      "source": [
        "### Задание №3\n",
        "Реализовать методы сортировки строк числовой матрицы в соответствии с\n",
        "заданием. Оценить время работы каждого алгоритма сортировки и сравнить его со\n",
        "временем стандартной функции сортировки. Испытания проводить на сгенерированных\n",
        "матрицах."
      ]
    },
    {
      "cell_type": "code",
      "execution_count": null,
      "id": "opposed-creature",
      "metadata": {
        "id": "opposed-creature"
      },
      "outputs": [],
      "source": [
        "import copy"
      ]
    },
    {
      "cell_type": "code",
      "execution_count": null,
      "id": "cleared-anniversary",
      "metadata": {
        "id": "cleared-anniversary",
        "outputId": "2fd0c694-b9c5-499e-b727-dde29f32b3a4",
        "colab": {
          "base_uri": "https://localhost:8080/"
        }
      },
      "outputs": [
        {
          "output_type": "stream",
          "name": "stdout",
          "text": [
            "5\n",
            "3\n",
            "1\n",
            "4\n",
            "34\n",
            "55\n",
            "[1, 3, 4, 34, 55]\n",
            "--- 6476 ms ---\n"
          ]
        }
      ],
      "source": [
        "# Сортировка выбором.\n",
        "# Берётся срез массива, в котором минимальный элемент переносят в самый левый угол,\n",
        "# после чего срез уменьшается и цикл повторяется.\n",
        "\n",
        "A=[]\n",
        "array_size = int(input())\n",
        "for i in range(array_size):\n",
        "  A.append(int(input()))\n",
        "start_time = time.time()\n",
        "for i in range(array_size):\n",
        "    x = min(A[i:])\n",
        "    A.pop(A.index(x))\n",
        "    A.insert(i,x)\n",
        "print (A)\n",
        "\n",
        "print(\"--- {0} ms ---\".format(round((time.time() - start_time)*1000)))"
      ]
    },
    {
      "cell_type": "code",
      "execution_count": null,
      "id": "roman-silly",
      "metadata": {
        "scrolled": true,
        "id": "roman-silly",
        "outputId": "4580c084-25e7-4219-9d5d-3c323aaf41fe",
        "colab": {
          "base_uri": "https://localhost:8080/"
        }
      },
      "outputs": [
        {
          "output_type": "stream",
          "name": "stdout",
          "text": [
            "input size of array: 5\n",
            "input element 0: 21\n",
            "input element 1: 2\n",
            "input element 2: 43\n",
            "input element 3: 3\n",
            "input element 4: 1\n",
            "[1, 2, 3, 21, 43]\n",
            "--- 9545 ms ---\n"
          ]
        }
      ],
      "source": [
        "# Сортировка вставкой.\n",
        "\n",
        "A=[]\n",
        "array_size = int(input(\"input size of array: \"))\n",
        "for i in range(array_size):\n",
        "  A.append(int(input(f\"input element {i}: \")))\n",
        "start_time = time.time()\n",
        "if array_size<2:\n",
        "    print (A)\n",
        "else:\n",
        "    for i in range(array_size):\n",
        "        for j in range(array_size):\n",
        "            if A[i] < A[j]:\n",
        "                A[i], A[j] = A[j], A[i]\n",
        "print(A)\n",
        "print(\"--- {0} ms ---\".format(round((time.time() - start_time)*1000)))"
      ]
    },
    {
      "cell_type": "code",
      "execution_count": null,
      "id": "vital-implementation",
      "metadata": {
        "id": "vital-implementation",
        "outputId": "41d71524-c2e0-449a-c866-fa4ea61ecbb8",
        "colab": {
          "base_uri": "https://localhost:8080/"
        }
      },
      "outputs": [
        {
          "output_type": "stream",
          "name": "stdout",
          "text": [
            "input size of array: 6\n",
            "input element 0: 34\n",
            "input element 1: 2\n",
            "input element 2: 34\n",
            "input element 3: 1\n",
            "input element 4: 2\n",
            "input element 5: 22\n",
            "[1, 2, 2, 22, 34, 34]\n",
            "--- 8355 ms ---\n"
          ]
        }
      ],
      "source": [
        "# Сортировка обменом. || Сортировка пузырьком.\n",
        "\n",
        "A=[]\n",
        "array_size = int(input(\"input size of array: \"))\n",
        "for i in range(array_size):\n",
        "  A.append(int(input(f\"input element {i}: \")))\n",
        "start_time = time.time()\n",
        "for i in range(array_size-1):\n",
        "    for j in range(array_size-i-1):\n",
        "        if A[j] > A[j+1]:\n",
        "            A[j], A[j+1] = A[j+1], A[j]\n",
        "\n",
        "print (A)\n",
        "print(\"--- {0} ms ---\".format(round((time.time() - start_time)*1000)))"
      ]
    },
    {
      "cell_type": "code",
      "execution_count": null,
      "id": "veterinary-glory",
      "metadata": {
        "id": "veterinary-glory",
        "outputId": "4a2889cb-bec7-4376-856f-372f4a4ace13",
        "colab": {
          "base_uri": "https://localhost:8080/"
        }
      },
      "outputs": [
        {
          "output_type": "stream",
          "name": "stdout",
          "text": [
            "input size of array: 6\n",
            "input element 0: 21\n",
            "input element 1: 3\n",
            "input element 2: 23\n",
            "input element 3: 2\n",
            "input element 4: 4\n",
            "input element 5: 1\n",
            "[1, 2, 3, 4, 21, 23]\n",
            "--- 11373 ms ---\n"
          ]
        }
      ],
      "source": [
        "# Сортировка Шелла.\n",
        "import math\n",
        "\n",
        "\n",
        "\n",
        "A=[]\n",
        "array_size = int(input(\"input size of array: \"))\n",
        "for i in range(array_size):\n",
        "  A.append(int(input(f\"input element {i}: \")))\n",
        "start_time = time.time()\n",
        "k = int(math.log2(array_size))\n",
        "interval = 2**k -1\n",
        "while interval > 0:\n",
        "    for i in range(interval, array_size):\n",
        "        temp = A[i]\n",
        "        j = i\n",
        "        while j >= interval and A[j - interval] > temp:\n",
        "            A[j] = A[j - interval]\n",
        "            j -= interval\n",
        "        A[j] = temp\n",
        "    k -= 1\n",
        "    interval = 2**k -1\n",
        "print(A)\n",
        "print(\"--- {0} ms ---\".format(round((time.time() - start_time)*1000)))"
      ]
    },
    {
      "cell_type": "code",
      "execution_count": null,
      "id": "correct-chaos",
      "metadata": {
        "id": "correct-chaos",
        "outputId": "66fcfb59-7cdf-41a7-f4c6-06bf7f6662e9",
        "colab": {
          "base_uri": "https://localhost:8080/"
        }
      },
      "outputs": [
        {
          "output_type": "stream",
          "name": "stdout",
          "text": [
            "input size of array: 5\n",
            "input element 0: 233\n",
            "input element 1: 1\n",
            "input element 2: 22\n",
            "input element 3: 12\n",
            "input element 4: 3\n",
            "[1, 3, 12, 22, 233]\n",
            "--- 1 ms ---\n"
          ]
        }
      ],
      "source": [
        "# Быстрая сортировка.\n",
        "import time\n",
        "import random\n",
        "\n",
        "T = []\n",
        "array_size = int(input(\"input size of array: \"))\n",
        "for i in range(array_size):\n",
        "    T.append(int(input(f\"input element {i}: \")))\n",
        "start_time = time.time()\n",
        "\n",
        "\n",
        "def QuickSort(A):\n",
        "    if len(A) <= 1:\n",
        "        return A\n",
        "    else:\n",
        "        q = random.choice(A)\n",
        "        L = [elem for elem in A if elem < q]\n",
        "        M = [q] * A.count(q)\n",
        "        R = [elem for elem in A if elem > q]\n",
        "        return QuickSort(L) + M + QuickSort(R)\n",
        "print(QuickSort(T))\n",
        "\n",
        "print(\"--- {0} ms ---\".format(round((time.time() - start_time) * 1000)))\n"
      ]
    },
    {
      "cell_type": "code",
      "execution_count": null,
      "id": "french-czech",
      "metadata": {
        "colab": {
          "base_uri": "https://localhost:8080/"
        },
        "id": "french-czech",
        "outputId": "66658d69-463c-4bf6-ce5e-7636d61ec08b"
      },
      "outputs": [
        {
          "output_type": "stream",
          "name": "stdout",
          "text": [
            "--- 0 ms ---\n"
          ]
        }
      ],
      "source": [
        "# Турнирная сортировка.\n",
        "start_time = time.time()\n",
        "def createHeap(data, length, index):\n",
        "        largest = index\n",
        "        left = 2 * index + 1\n",
        "        right = 2 * index + 2\n",
        "        if left < length and data[index] < data[left]:largest = left\n",
        "        if right < length and data[largest] < data[right]:largest = right\n",
        "        if largest != index:\n",
        "          data[index], data[largest] = data[largest], data[index]\n",
        "          createHeap(data, length, largest)\n",
        "def heapSort(data):\n",
        "    length = len(data)\n",
        "        #We build max heap\n",
        "    for index in range(length, 0, -1):\n",
        "        createHeap(data, length, index)\n",
        "    for index in range(length -1, 0, -1):\n",
        "        data[index], data[0] = data[0], data[index]\n",
        "        createHeap(data, index, 0)\n",
        "    print(data)\n",
        "print(\"--- {0} ms ---\".format(round((time.time() - start_time)*1000)))"
      ]
    },
    {
      "cell_type": "markdown",
      "id": "rental-jerusalem",
      "metadata": {
        "id": "rental-jerusalem"
      },
      "source": [
        "### Вывод\n"
      ]
    },
    {
      "cell_type": "markdown",
      "id": "9d108a0a",
      "metadata": {
        "id": "9d108a0a"
      },
      "source": []
    }
  ],
  "metadata": {
    "kernelspec": {
      "display_name": "Python 3 (ipykernel)",
      "language": "python",
      "name": "python3"
    },
    "language_info": {
      "codemirror_mode": {
        "name": "ipython",
        "version": 3
      },
      "file_extension": ".py",
      "mimetype": "text/x-python",
      "name": "python",
      "nbconvert_exporter": "python",
      "pygments_lexer": "ipython3",
      "version": "3.10.2"
    },
    "colab": {
      "provenance": [],
      "include_colab_link": true
    }
  },
  "nbformat": 4,
  "nbformat_minor": 5
}